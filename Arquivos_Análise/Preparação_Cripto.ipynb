{
  "nbformat": 4,
  "nbformat_minor": 0,
  "metadata": {
    "colab": {
      "provenance": [],
      "include_colab_link": true
    },
    "kernelspec": {
      "name": "python3",
      "display_name": "Python 3"
    },
    "language_info": {
      "name": "python"
    }
  },
  "cells": [
    {
      "cell_type": "markdown",
      "metadata": {
        "id": "view-in-github",
        "colab_type": "text"
      },
      "source": [
        "<a href=\"https://colab.research.google.com/github/luhonunes/Criptomoedas_Resilia/blob/main/Prepara%C3%A7%C3%A3o_Cripto.ipynb\" target=\"_parent\"><img src=\"https://colab.research.google.com/assets/colab-badge.svg\" alt=\"Open In Colab\"/></a>"
      ]
    },
    {
      "cell_type": "markdown",
      "source": [
        "## <font color = bluegreen> **Preparação** </font>\n",
        "\n",
        "Para a elaboração do projeto, foi utilizado o Google Colaboratory\n",
        "\n",
        "- **Passo 1: Criar um arquivo de API no Kaggle**\n",
        "\n",
        "  + Acesse o site do Kaggle (https://www.kaggle.com/) e faça login na sua conta.\n",
        "\n",
        "  + Clique no ícone do seu perfil no canto superior direito e selecione \"Settings\" no menu suspenso.![Settings](https://github.com/luhonunes/Criptomoedas_Resilia/blob/main/Imagens_Instru%C3%A7%C3%B5es/Settings%20Kaggle.png?raw=true)\n",
        "  +  Role para baixo até na seção \"Account\" e encontre a opção \"API\".\n",
        "\n",
        "  + Clique em \"Create New Token\". Isso gerará um arquivo de API chamado kaggle.json que você usará para autenticar no Kaggle.![API](https://github.com/luhonunes/Criptomoedas_Resilia/blob/main/Imagens_Instru%C3%A7%C3%B5es/Nova%20API.png?raw=true)\n",
        "  + Baixe o arquivo kaggle.json gerado e salve-o no seu computador.\n",
        "\n",
        "\n",
        "---\n"
      ],
      "metadata": {
        "id": "pal96sC3baln"
      }
    },
    {
      "cell_type": "markdown",
      "source": [
        "- **Passo 2: Upload do arquivo de configuração Kaggle (kaggle.json)**\n",
        "\n",
        "  + Execute a célula de código a seguir para carregar o arquivo kaggle.json:\n",
        "  + Clique no botão \"Escolher arquivo\" e selecione o arquivo kaggle.json previamente baixado no seu computador. Observe que o nome deve estar exatamente como descrito para que os passos a seguir funcionem. ![upload kaggle.json](https://github.com/luhonunes/Criptomoedas_Resilia/blob/main/Imagens_Instru%C3%A7%C3%B5es/upload%20kaggle.json.png?raw=true)\n",
        "\n",
        "  + Encontre o arquivo em sua maquina e selecione \"Abrir\". ![Import APi](https://github.com/luhonunes/Criptomoedas_Resilia/blob/main/Imagens_Instru%C3%A7%C3%B5es/import%20API.png?raw=true)\n",
        "\n"
      ],
      "metadata": {
        "id": "1jeL3WdUiSOY"
      }
    },
    {
      "cell_type": "code",
      "source": [
        "from google.colab import files\n",
        "\n",
        "# Faça o upload do arquivo kaggle.json\n",
        "files.upload()"
      ],
      "metadata": {
        "id": "pUwtAYfcgGdd"
      },
      "execution_count": null,
      "outputs": []
    },
    {
      "cell_type": "markdown",
      "source": [
        "*Isso moverá o arquivo kaggle.json para a pasta raiz do ambiente do Google Colab, onde você pode acessá-lo facilmente ao seguir o restante dos passos no ambiente do Colab. Certifique-se de que o arquivo foi movido com sucesso antes de prosseguir com o Passo 3.*\n",
        "\n",
        "![Salvo Json](https://github.com/luhonunes/Criptomoedas_Resilia/blob/main/Imagens_Instru%C3%A7%C3%B5es/Salvo%20json.png?raw=true)"
      ],
      "metadata": {
        "id": "f0OSZfaWiARA"
      }
    },
    {
      "cell_type": "markdown",
      "source": [
        "___"
      ],
      "metadata": {
        "id": "fHEGAupslw-f"
      }
    },
    {
      "cell_type": "markdown",
      "source": [
        "- **Passo 3: Mover o arquivo kaggle.json para o diretório correto**\n",
        "\n",
        "  + Execute a célula de código a seguir para mover o arquivo kaggle.json para o diretório correto:"
      ],
      "metadata": {
        "id": "rHZ2_rnnijGH"
      }
    },
    {
      "cell_type": "code",
      "source": [
        "import os\n",
        "\n",
        "# Mova o arquivo kaggle.json para o diretório correto\n",
        "os.makedirs(\"/root/.kaggle\", exist_ok=True)\n",
        "os.rename(\"kaggle.json\", \"/root/.kaggle/kaggle.json\")"
      ],
      "metadata": {
        "id": "EEgAId4ch1LV"
      },
      "execution_count": null,
      "outputs": []
    },
    {
      "cell_type": "markdown",
      "source": [
        "---\n"
      ],
      "metadata": {
        "id": "iplwPai6lzHG"
      }
    },
    {
      "cell_type": "markdown",
      "source": [
        "- **Passo 4: Instalar a biblioteca Kaggle**\n",
        "\n",
        "  + Execute a seguinte célula de código para instalar a biblioteca Kaggle: ![Instalar Kaggle](https://github.com/luhonunes/Criptomoedas_Resilia/blob/main/Imagens_Instru%C3%A7%C3%B5es/Instalar%20Kaggle.png?raw=true)"
      ],
      "metadata": {
        "id": "cO05HOSQmQbZ"
      }
    },
    {
      "cell_type": "code",
      "source": [
        "!pip install kaggle\n",
        "!pip install plotly\n",
        "!pip install dash"
      ],
      "metadata": {
        "id": "GkPff9admZmz"
      },
      "execution_count": null,
      "outputs": []
    },
    {
      "cell_type": "markdown",
      "source": [
        "---"
      ],
      "metadata": {
        "id": "VmHOOibdmdCW"
      }
    },
    {
      "cell_type": "markdown",
      "source": [
        "- **Passo 5: Configurar permissões para o arquivo de configuração Kaggle**\n",
        "\n",
        "  + Execute a célula de código abaixo para garantir que o arquivo de configuração kaggle.json tenha as permissões corretas:"
      ],
      "metadata": {
        "id": "zXTYWULpmhxQ"
      }
    },
    {
      "cell_type": "code",
      "source": [
        "!chmod 600 /root/.kaggle/kaggle.json\n"
      ],
      "metadata": {
        "id": "QsjgEFMamnIG"
      },
      "execution_count": null,
      "outputs": []
    },
    {
      "cell_type": "markdown",
      "source": [
        "---"
      ],
      "metadata": {
        "id": "P_2OYvWko8lz"
      }
    },
    {
      "cell_type": "markdown",
      "source": [
        "- **Passo 6: Escolher um conjunto de dados no Kaggle e fazer o download**\n",
        "\n",
        "  + Foi escolhido o seguinte conjunto de dados no Kaggle contendo a série histórica dos valores de criptomoedas.\n",
        "\n",
        "  + Execute a célula de código para fazer o download do conjunto de dados: ![Download Dataset](https://github.com/luhonunes/Criptomoedas_Resilia/blob/main/Imagens_Instru%C3%A7%C3%B5es/Download%20Dataset.png?raw=true)\n",
        "\n",
        "  + Um novo arquivo será exibido:\n",
        "  \n",
        "    ![Salvo ZIP](https://github.com/luhonunes/Criptomoedas_Resilia/blob/main/Imagens_Instru%C3%A7%C3%B5es/Salvo%20ZIP.png?raw=true)"
      ],
      "metadata": {
        "id": "I3xLn2jgnnrH"
      }
    },
    {
      "cell_type": "code",
      "source": [
        "# Nome do conjunto de dados no Kaggle\n",
        "dataset_name = \"sudalairajkumar/cryptocurrencypricehistory\"\n",
        "\n",
        "# Pasta de destino para os arquivos CSV baixados\n",
        "download_folder = \"/content/cripto_resilia\"  # Substitua pelo caminho desejado\n",
        "\n",
        "# Baixe os arquivos do conjunto de dados\n",
        "!kaggle datasets download -d {dataset_name} -p {download_folder}\n"
      ],
      "metadata": {
        "id": "b7hM-eg7B29g"
      },
      "execution_count": null,
      "outputs": []
    },
    {
      "cell_type": "markdown",
      "source": [
        "---"
      ],
      "metadata": {
        "id": "__XjQ32_o98E"
      }
    },
    {
      "cell_type": "markdown",
      "source": [
        "- **Passo 7: Descompactar o arquivo ZIP do conjunto de dados**\n",
        "\n",
        "  + Execute a célula de código para descompactar o arquivo ZIP do conjunto de dados: ![Descompactado](https://github.com/luhonunes/Criptomoedas_Resilia/blob/main/Imagens_Instru%C3%A7%C3%B5es/Descompactado.png?raw=true)\n",
        "\n",
        "  + Observe que uma subpasta foi criada contendo todos os arquivos do dataset escolhido. ![Cripto Total](https://github.com/luhonunes/Criptomoedas_Resilia/blob/main/Imagens_Instru%C3%A7%C3%B5es/Salvo%20cripto%20total.png?raw=true)"
      ],
      "metadata": {
        "id": "wteKz6Odnujy"
      }
    },
    {
      "cell_type": "code",
      "source": [
        "import zipfile\n",
        "\n",
        "# Caminho para o arquivo ZIP\n",
        "zip_file_path = \"/content/cripto_resilia/cryptocurrencypricehistory.zip\"  # Substitua pelo caminho correto\n",
        "\n",
        "# Pasta de destino para descompactar os arquivos\n",
        "extracted_folder = \"/content/cripto_resilia/extracao\"  # Substitua pelo caminho desejado\n",
        "\n",
        "# Descompacte o arquivo ZIP\n",
        "with zipfile.ZipFile(zip_file_path, 'r') as zip_ref:\n",
        "    zip_ref.extractall(extracted_folder)\n",
        "\n",
        "print(\"Arquivo ZIP descompactado com sucesso.\")"
      ],
      "metadata": {
        "id": "_hQw6R2GDrJn"
      },
      "execution_count": null,
      "outputs": []
    },
    {
      "cell_type": "markdown",
      "source": [
        "---"
      ],
      "metadata": {
        "id": "dDpectHxpABY"
      }
    },
    {
      "cell_type": "markdown",
      "source": [
        "- **Passo 8: Carregar e manipular os arquivos CSV**\n",
        "\n",
        "  + Execute a célula de código para listar todos os arquivos CSV na pasta descompactada e criar DataFrames para cada moeda: ![DF Total](https://github.com/luhonunes/Criptomoedas_Resilia/blob/main/Imagens_Instru%C3%A7%C3%B5es/Criado%20Df%20Total.png?raw=true)"
      ],
      "metadata": {
        "id": "NuVImmrtoKyZ"
      }
    },
    {
      "cell_type": "code",
      "source": [
        "import os\n",
        "import pandas as pd\n",
        "\n",
        "# Listar todos os arquivos CSV na pasta descompactada\n",
        "csv_files = [f for f in os.listdir(extracted_folder) if f.endswith(\".csv\")]\n",
        "\n",
        "# Dicionário para armazenar os DataFrames\n",
        "dataframes = {}\n",
        "\n",
        "# Iterar sobre os arquivos CSV e criar DataFrames\n",
        "for csv_file in csv_files:\n",
        "    # Obter o nome da moeda a partir do nome do arquivo (sem a extensão .csv)\n",
        "    nome_moeda = os.path.splitext(csv_file)[0]\n",
        "\n",
        "    # Ler o arquivo CSV e criar um DataFrame\n",
        "    df = pd.read_csv(os.path.join(extracted_folder, csv_file))\n",
        "\n",
        "    # Adicionar o DataFrame ao dicionário com a chave sendo o nome da moeda\n",
        "    dataframes[nome_moeda] = df\n",
        "\n",
        "    print(f'DataFrame para a moeda \"{nome_moeda}\" criado com sucesso.')\n",
        "\n",
        "# Pasta onde os arquivos CSV foram descompactados\n",
        "extracao_folder = \"/content/cripto_resilia/extracao/\"\n",
        "\n",
        "# Lista das moedas desejadas\n",
        "moedas_desejadas = [\"coin_Bitcoin\", \"coin_Ethereum\", \"coin_Stellar\", \"coin_Litecoin\", \"coin_Solana\", \"coin_USDCoin\", \"coin_Polkadot\", \"coin_Monero\", \"coin_Uniswap\", \"coin_XRP\"]\n",
        "\n",
        "# Dicionário para armazenar os DataFrames\n",
        "dataframes = {}\n",
        "\n",
        "# Iterar sobre as moedas desejadas\n",
        "for moeda in moedas_desejadas:\n",
        "    # Nome do arquivo CSV correspondente à moeda\n",
        "    arquivo_csv = f\"{moeda}.csv\"\n",
        "\n",
        "    # Verificar se o arquivo CSV existe na pasta de extração\n",
        "    if arquivo_csv in os.listdir(extracao_folder):\n",
        "        # Ler o arquivo CSV e criar um DataFrame\n",
        "        df = pd.read_csv(os.path.join(extracao_folder, arquivo_csv))\n",
        "\n",
        "        # Adicionar o DataFrame ao dicionário com a chave sendo o nome da moeda\n",
        "        dataframes[moeda] = df\n",
        "\n",
        "        print(f'DataFrame para a moeda \"{moeda}\" criado com sucesso.')\n",
        "    else:\n",
        "        print(f'Arquivo CSV para a moeda \"{moeda}\" não encontrado.')\n"
      ],
      "metadata": {
        "id": "gPTmgmUSDtoF"
      },
      "execution_count": null,
      "outputs": []
    },
    {
      "cell_type": "markdown",
      "source": [
        "*Os DataFrames são armazenados no dicionário \"dataframes\". Você pode realizar operações de edição ou análise nos DataFrames conforme necessário.*"
      ],
      "metadata": {
        "id": "GLAG6cyOpc6C"
      }
    },
    {
      "cell_type": "markdown",
      "source": [
        "---"
      ],
      "metadata": {
        "id": "sN81SmhRpC6C"
      }
    },
    {
      "cell_type": "markdown",
      "source": [
        "- **Passo 9: Pré-processamento, manipulação e limpeza dos dados**\n",
        "\n",
        "  + Execute ste bloco de código para preparar os dados de criptomoedas para análises subsequentes, tornando-os consistentes, organizados e prontos para serem usados em tarefas analíticas ou de visualização de dados."
      ],
      "metadata": {
        "id": "_h3C1GvjoTSG"
      }
    },
    {
      "cell_type": "code",
      "source": [
        "# Unir todos os DataFrames em um único DataFrame\n",
        "base_de_dados = pd.concat(dataframes.values(), ignore_index=True)\n",
        "\n",
        "# Convertendo a coluna 'Data da Coleta' para o tipo datetime\n",
        "base_de_dados['Date'] = pd.to_datetime(base_de_dados['Date'])\n",
        "\n",
        "# Ordenando o DataFrame pela coluna 'Date'\n",
        "base_de_dados.sort_values(by='Date', inplace=True, ignore_index=True)\n",
        "\n",
        "# Criar uma nova coluna com os nomes dos dias da semana\n",
        "base_de_dados['Week Day'] = base_de_dados['Date'].dt.day_name()\n",
        "\n",
        "# Deletando Coluna desnecessária\n",
        "base_de_dados = base_de_dados.drop('SNo', axis=1)\n",
        "\n",
        "# Criando uma cópia dos dados\n",
        "criptomoedas = base_de_dados.copy()"
      ],
      "metadata": {
        "id": "7XN1IsWjHAZt"
      },
      "execution_count": null,
      "outputs": []
    },
    {
      "cell_type": "markdown",
      "source": [
        "---\n"
      ],
      "metadata": {
        "id": "v9HQcpp0q4pU"
      }
    },
    {
      "cell_type": "markdown",
      "source": [
        "- **Passo 10: Salvar o DataFrame resultante como um arquivo CSV**\n",
        "\n",
        "  + Execute este bloco de código para concluir o processo de manipulação e pré-processamento de dados, salvando o DataFrame resultante em um arquivo CSV para que possa usá-lo posteriormente em análises. ![CSV Moedas Escolhidas](https://github.com/luhonunes/Criptomoedas_Resilia/blob/main/Imagens_Instru%C3%A7%C3%B5es/Baixar%20csv%20moedas%20escolhidas.png?raw=true)"
      ],
      "metadata": {
        "id": "s_0aBR9iq3j0"
      }
    },
    {
      "cell_type": "code",
      "source": [
        "# Nome do arquivo CSV de saída\n",
        "nome_arquivo_csv = \"criptomoedas.csv\"\n",
        "\n",
        "# Caminho onde você deseja salvar o arquivo CSV\n",
        "caminho_saida_csv = \"/content/\"\n",
        "\n",
        "# Caminho completo do arquivo de saída\n",
        "caminho_completo_csv = os.path.join(caminho_saida_csv, nome_arquivo_csv)\n",
        "\n",
        "# Salvar o DataFrame \"criptomoedas\" como um arquivo CSV\n",
        "criptomoedas.to_csv(caminho_completo_csv, index=False)\n",
        "\n",
        "print(f'Arquivo CSV \"{nome_arquivo_csv}\" criado com sucesso em {caminho_completo_csv}.')"
      ],
      "metadata": {
        "id": "Lj11HxGogbGh"
      },
      "execution_count": null,
      "outputs": []
    },
    {
      "cell_type": "markdown",
      "source": [
        "O arquivo CSV criado conterá os dados organizados das criptomoedas e estará localizado no diretório especificado. Baixe-o para a sua maquina local seguindo os proximos passos:"
      ],
      "metadata": {
        "id": "EPHgFS1jro1l"
      }
    },
    {
      "cell_type": "markdown",
      "source": [
        "+ Observe que um novo arquivo foi criado:\n",
        "\n",
        "![CSV final](https://github.com/luhonunes/Criptomoedas_Resilia/blob/main/Imagens_Instru%C3%A7%C3%B5es/baixar%20csv%20final.png?raw=true)\n",
        "\n",
        "+ Clique nos 3 pontos a direita do arquivo \"criptomoedas.csv\" e escolha a opção \"Fazer Download\":\n",
        "![Download CSV Final](https://github.com/luhonunes/Criptomoedas_Resilia/blob/main/Imagens_Instru%C3%A7%C3%B5es/download%20csv%20final.png?raw=true)"
      ],
      "metadata": {
        "id": "UoStu5bu786d"
      }
    },
    {
      "cell_type": "markdown",
      "source": [
        "O arquivo está pronto para ser carregado nas próximas etapas do projeto."
      ],
      "metadata": {
        "id": "lQQC-v6S9KMH"
      }
    },
    {
      "cell_type": "markdown",
      "source": [
        "---"
      ],
      "metadata": {
        "id": "N7hQV17Xryi9"
      }
    },
    {
      "cell_type": "markdown",
      "source": [
        "## <font color = bluegreen> **Pontos Positivos de Realizar Tudo no Ambiente do Google Colab** </font>\n",
        "\n",
        "- **Facilidade de Gerenciamento:** Ao realizar todas as operações no ambiente do Google Colab, você evita a necessidade de gerenciar arquivos em sua máquina local. Isso simplifica o processo, especialmente ao lidar com vários arquivos.\n",
        "\n",
        "- **Automação:** Você pode criar um notebook no Google Colab com todas as etapas necessárias para baixar, processar e analisar seus dados. Isso permite que você automatize tarefas repetitivas e as execute de maneira consistente sempre que necessário.\n",
        "\n",
        "- **Recursos da Nuvem:** O Google Colab é executado em servidores na nuvem, o que significa que você pode aproveitar os recursos de computação poderosos sem depender da capacidade de processamento do seu próprio computador. Isso é especialmente útil ao lidar com grandes conjuntos de dados.\n",
        "\n",
        "- **Colaboração:** O Google Colab facilita a colaboração em projetos de ciência de dados, pois você pode compartilhar seu notebook com outras pessoas, permitindo que elas executem e modifiquem o código sem precisar baixar e enviar arquivos manualmente.\n",
        "\n",
        "- **Versionamento:** Você pode usar ferramentas de controle de versão, como o Git, diretamente no ambiente do Google Colab para rastrear e gerenciar alterações no seu código e nos dados.\n",
        "\n",
        "- **Ambiente Isolado:** O ambiente do Google Colab é isolado e pré-configurado, o que significa que você não precisa se preocupar com a instalação de pacotes, dependências ou configurações complexas. Isso economiza tempo e evita conflitos de versões.\n",
        "\n",
        "Em resumo, realizar todas as etapas no ambiente do Google Colab oferece maior conveniência, automação e flexibilidade, tornando o processo de análise de dados mais eficiente e colaborativo. Além disso, você pode aproveitar os recursos de computação da nuvem para lidar com tarefas de processamento intensivo."
      ],
      "metadata": {
        "id": "bZ2uHJLwbwNe"
      }
    },
    {
      "cell_type": "markdown",
      "source": [
        "## <font color = bluegreen> **Instruções para Jupyter Notebook ou Visual Studio Code** </font>\n",
        "\n",
        "\n",
        "Se você estiver utilizando o Jupyter Notebook ou o Visual Studio Code (VS Code) em vez do Google Colab, a maneira de mover o arquivo kaggle.json para a pasta correta pode ser um pouco diferente. Aqui estão as instruções adicionais para esses ambientes:\n",
        "\n",
        "- **Para Jupyter Notebook:**\n",
        "\n",
        "  + Certifique-se de que o arquivo kaggle.json está carregado no Jupyter Notebook.\n",
        "\n",
        "  + Você pode usar a biblioteca shutil para mover o arquivo. Execute o seguinte código na célula do Jupyter Notebook:\n",
        "\n"
      ],
      "metadata": {
        "id": "wlc2uvZlsGS4"
      }
    },
    {
      "cell_type": "code",
      "source": [
        "import shutil\n",
        "\n",
        "# Substitua o caminho abaixo pelo caminho correto onde o arquivo kaggle.json está carregado no Jupyter Notebook.\n",
        "source_path = '/caminho/completo/para/o/kaggle.json'\n",
        "\n",
        "# Substitua o caminho abaixo pelo diretório onde você deseja mover o arquivo.\n",
        "destination_path = '/caminho/para/o/diretorio/de/configuracao'\n",
        "\n",
        "shutil.move(source_path, destination_path)\n"
      ],
      "metadata": {
        "id": "pnMH6Sb7vag2"
      },
      "execution_count": null,
      "outputs": []
    },
    {
      "cell_type": "markdown",
      "source": [
        "*Certifique-se de que o arquivo kaggle.json foi movido com sucesso para a pasta de configuração.*"
      ],
      "metadata": {
        "id": "3RxwUJ4PvgLj"
      }
    },
    {
      "cell_type": "markdown",
      "source": [
        "- **Para o Visual Studio Code (VS Code):**\n",
        "\n",
        "   + Certifique-se de que o arquivo kaggle.json está carregado no VS Code.\n",
        "\n",
        "  + Você pode usar a biblioteca shutil da mesma maneira que no Jupyter Notebook para mover o arquivo. Execute o código relevante no ambiente de script Python no VS Code."
      ],
      "metadata": {
        "id": "7yqzv_kYvPeF"
      }
    },
    {
      "cell_type": "code",
      "source": [
        "import shutil\n",
        "\n",
        "# Substitua o caminho abaixo pelo caminho correto onde o arquivo kaggle.json está carregado no Jupyter Notebook.\n",
        "source_path = '/caminho/completo/para/o/kaggle.json'\n",
        "\n",
        "# Substitua o caminho abaixo pelo diretório onde você deseja mover o arquivo.\n",
        "destination_path = '/caminho/para/o/diretorio/de/configuracao'\n",
        "\n",
        "shutil.move(source_path, destination_path)"
      ],
      "metadata": {
        "id": "xK61UGpoADLo"
      },
      "execution_count": null,
      "outputs": []
    },
    {
      "cell_type": "markdown",
      "source": [
        "*Certifique-se de ajustar os caminhos source_path e destination_path para refletir as localizações corretas do arquivo kaggle.json e da pasta de configuração no seu ambiente específico. Depois de mover o arquivo, você pode prosseguir com os passos mencionados no manual anterior para o Google Colab ou realizar as tarefas que deseja no seu ambiente preferido (Jupyter Notebook ou VS Code).*"
      ],
      "metadata": {
        "id": "kDvV0VVAAGv5"
      }
    },
    {
      "cell_type": "markdown",
      "source": [
        "---"
      ],
      "metadata": {
        "id": "PcHlcHBOpnBj"
      }
    },
    {
      "cell_type": "markdown",
      "source": [
        "## <font color = bluegreen> **Importando Arquivo CVS criado para o PostgreSQL** </font>\n",
        "\n",
        "Para importar dados de um arquivo CSV diretamente para uma tabela no PostgreSQL usando o PgAdmin, siga estas etapas:\n",
        "\n",
        "- **Passo 1: Abra o PgAdmin**:\n",
        "\n",
        "  + Inicie o PgAdmin no seu computador.\n",
        "\n",
        "  + Conecte-se ao servidor PostgreSQL no qual você deseja criar a tabela e importar os dados.\n",
        "\n",
        "- **Passo 2: Abra a Ferramenta de Consulta SQL**\n",
        "\n",
        "  + No PgAdmin, abra a ferramenta de consulta SQL para executar comandos SQL.\n",
        "\n",
        "- **Passo 3: Crie a Tabela PostgreSQL**\n",
        "\n",
        "  + No painel de consulta SQL, execute a seguinte consulta SQL para criar a tabela com a estrutura especificada:\n",
        "\n",
        "          CREATE TABLE IF NOT EXISTS cripto (\n",
        "              Name VARCHAR(255),\n",
        "              Symbol VARCHAR(10),\n",
        "              Date TIMESTAMP,\n",
        "              High NUMERIC(18, 8),\n",
        "              Low NUMERIC(18, 8),\n",
        "              Open NUMERIC(18, 8),\n",
        "              Close NUMERIC(18, 8),\n",
        "              Volume NUMERIC(18, 2),\n",
        "              Marketcap NUMERIC(18, 2),\n",
        "              \"Week Day\" VARCHAR(20)\n",
        "          );\n",
        "          \n",
        "  + Certifique-se de que a tabela \"cripto\" tenha sido criada com sucesso no banco de dados.\n",
        "\n",
        "- **Passo 4: Importe o Arquivo CSV**\n",
        "\n",
        "  + No painel de consulta SQL, execute a seguinte consulta SQL para importar dados do arquivo CSV diretamente para a tabela:\n",
        "\n",
        "        COPY cripto FROM '/caminho/para/seu/arquivo/cripto.csv' WITH CSV HEADER;\n",
        "\n",
        "  + Certifique-se de substituir '/caminho/para/seu/arquivo/criptomoedas.csv' pelo caminho correto do arquivo CSV que você deseja importar.\n",
        "\n",
        "  + Após a execução bem-sucedida da consulta, os dados do arquivo CSV serão importados para a tabela \"cripto\" no PostgreSQL.\n",
        "\n",
        "- **Passo 5: Verifique os Dados Importados**\n",
        "\n",
        "  + Execute consultas SQL no PgAdmin para verificar se os dados foram importados corretamente na tabela \"cripto\".\n",
        "  + Isso permitirá que você importe diretamente os dados do arquivo CSV para a tabela no PostgreSQL usando o PgAdmin, sem a necessidade de escrever código Python no Colab. Certifique-se de especificar o caminho correto para o arquivo CSV no comando COPY e ajustar as permissões de arquivo para garantir que o PostgreSQL possa acessar o arquivo."
      ],
      "metadata": {
        "id": "lyGZ91N_pvVw"
      }
    },
    {
      "cell_type": "markdown",
      "source": [
        "---\n"
      ],
      "metadata": {
        "id": "AdkktTigplg-"
      }
    },
    {
      "cell_type": "markdown",
      "source": [
        "## <font color = bluegreen> **Importando Banco de Dados PostgreSQL no Power BI** </font>\n",
        "\n",
        "Se você deseja se conectar ao PostgreSQL usando \"localhost\" como o servidor e \"cripto\" como o nome do banco de dados, você pode seguir os passos abaixo:\n",
        "\n",
        "- **Passo 1: Abra o PgAdmin**\n",
        "\n",
        "  + Inicie o PgAdmin no seu computador.\n",
        "\n",
        "  + Conecte-se ao servidor PostgreSQL. Certifique-se de que o PostgreSQL esteja em execução e você tenha as credenciais corretas para acessar o servidor.\n",
        "\n",
        "- **Passo 2: Abra o Power BI**\n",
        "\n",
        "  + Abra o Power BI Desktop no seu computador.\n",
        "\n",
        "- **Passo 3: Conecte-se ao PostgreSQL no Power BI**\n",
        "\n",
        "  + No Power BI Desktop, vá para a guia \"Home\" (Página Inicial).\n",
        "\n",
        "  + Clique em \"Get Data\" (Obter Dados).\n",
        "\n",
        "  + Na caixa de diálogo \"Get Data\" (Obter Dados), escolha \"Database\" (Banco de Dados) e selecione \"PostgreSQL\" na lista de fontes de dados disponíveis. Clique em \"Connect\" (Conectar).\n",
        "\n",
        "  + Na caixa de diálogo \"PostgreSQL Database\" (Banco de Dados PostgreSQL), preencha as informações da seguinte forma:\n",
        "\n",
        "        Server (Servidor): Digite \"localhost\".\n",
        "        Database (Banco de Dados): Digite \"cripto\".\n",
        "        Username (Nome de Usuário): Insira o nome de usuário válido com permissões para acessar o banco de dados.\n",
        "        Password (Senha): Insira a senha correspondente ao nome de usuário.\n",
        "\n",
        "  + Clique em \"OK\" para continuar.\n",
        "\n",
        "- **Passo 4: Escolha as Tabelas e os Dados para Importar**\n",
        "\n",
        "  + O Power BI irá se conectar ao PostgreSQL usando as informações fornecidas.\n",
        "\n",
        "  + Uma lista de tabelas disponíveis no banco de dados \"cripto\" será exibida. Selecione as tabelas ou visualizações que deseja importar para o Power BI.\n",
        "\n",
        "  + Clique em \"Load\" (Carregar) para importar os dados selecionados para o Power BI.\n",
        "\n",
        "- **Passo 5: Crie Relatórios e Visualizações**\n",
        "\n",
        "  + Após carregar os dados, você pode começar a criar relatórios e visualizações no Power BI Desktop com base nos dados do PostgreSQL.\n",
        "\n",
        "- **Passo 6: Salve o Projeto\n",
        "\n",
        "  + Salve o projeto do Power BI Desktop para que você possa acessá-lo novamente no futuro.\n",
        "\n",
        "\n",
        "*Lembre-se de que, ao conectar o Power BI ao PostgreSQL usando \"localhost\" como o servidor e \"cripto\" como o banco de dados, você deve fornecer as credenciais de autenticação corretas (nome de usuário e senha) e garantir que o PostgreSQL esteja em execução na sua máquina local. Certifique-se de que todas as informações estejam corretas para estabelecer uma conexão bem-sucedida*"
      ],
      "metadata": {
        "id": "UZheoowyppDE"
      }
    },
    {
      "cell_type": "markdown",
      "source": [
        "---"
      ],
      "metadata": {
        "id": "Zz8u7S1TprhG"
      }
    }
  ]
}